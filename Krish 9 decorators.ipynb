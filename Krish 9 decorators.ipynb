{
 "cells": [
  {
   "cell_type": "markdown",
   "metadata": {},
   "source": [
    "**Decorator** = A function that extends the behavior of another function\n",
    "w/o modifying the base function\n",
    "Pass the base function as an argument to the decorator"
   ]
  },
  {
   "cell_type": "code",
   "execution_count": 1,
   "metadata": {},
   "outputs": [
    {
     "name": "stdout",
     "output_type": "stream",
     "text": [
      "*You add sprinkles 🎊*\n",
      "*You add fudge 🍫*\n",
      "Here is your vanilla ice cream 🍨\n"
     ]
    }
   ],
   "source": [
    "def add_sprinkles(func):\n",
    "    def wrapper(*args, **kwargs):\n",
    "        print(\"*You add sprinkles 🎊*\")\n",
    "        func(*args, **kwargs)\n",
    "    return wrapper\n",
    "\n",
    "def add_fudge(func):\n",
    "    def wrapper(*args, **kwargs):\n",
    "        print(\"*You add fudge 🍫*\")\n",
    "        func(*args, **kwargs)\n",
    "    return wrapper\n",
    "\n",
    "\n",
    "@add_sprinkles\n",
    "@add_fudge\n",
    "def get_ice_cream(flavor):\n",
    "    print(f\"Here is your {flavor} ice cream 🍨\")\n",
    "\n",
    "get_ice_cream(\"vanilla\")"
   ]
  },
  {
   "cell_type": "markdown",
   "metadata": {},
   "source": [
    "##### If we don't put wrapper, then even without calling the functions, we will print results."
   ]
  },
  {
   "cell_type": "code",
   "execution_count": 2,
   "metadata": {},
   "outputs": [
    {
     "name": "stdout",
     "output_type": "stream",
     "text": [
      "*You add fudge 🍫*\n"
     ]
    },
    {
     "ename": "NameError",
     "evalue": "name 'args' is not defined",
     "output_type": "error",
     "traceback": [
      "\u001b[0;31m---------------------------------------------------------------------------\u001b[0m",
      "\u001b[0;31mNameError\u001b[0m                                 Traceback (most recent call last)",
      "\u001b[1;32m/Users/indrani.sarkar/Python_Functional/Basics/Krish 9 decorators.ipynb Cell 4\u001b[0m line \u001b[0;36m1\n\u001b[1;32m     <a href='vscode-notebook-cell:/Users/indrani.sarkar/Python_Functional/Basics/Krish%209%20decorators.ipynb#W4sZmlsZQ%3D%3D?line=9'>10</a>\u001b[0m         func(\u001b[39m*\u001b[39margs, \u001b[39m*\u001b[39m\u001b[39m*\u001b[39mkwargs)\n\u001b[1;32m     <a href='vscode-notebook-cell:/Users/indrani.sarkar/Python_Functional/Basics/Krish%209%20decorators.ipynb#W4sZmlsZQ%3D%3D?line=10'>11</a>\u001b[0m     \u001b[39m# return wrapper\u001b[39;00m\n\u001b[1;32m     <a href='vscode-notebook-cell:/Users/indrani.sarkar/Python_Functional/Basics/Krish%209%20decorators.ipynb#W4sZmlsZQ%3D%3D?line=13'>14</a>\u001b[0m \u001b[39m@add_sprinkles\u001b[39;49m\n\u001b[1;32m     <a href='vscode-notebook-cell:/Users/indrani.sarkar/Python_Functional/Basics/Krish%209%20decorators.ipynb#W4sZmlsZQ%3D%3D?line=14'>15</a>\u001b[0m \u001b[39m@add_fudge\u001b[39;49m\n\u001b[0;32m---> <a href='vscode-notebook-cell:/Users/indrani.sarkar/Python_Functional/Basics/Krish%209%20decorators.ipynb#W4sZmlsZQ%3D%3D?line=15'>16</a>\u001b[0m \u001b[39mdef\u001b[39;49;00m \u001b[39mget_ice_cream\u001b[39;49m(flavor):\n\u001b[1;32m     <a href='vscode-notebook-cell:/Users/indrani.sarkar/Python_Functional/Basics/Krish%209%20decorators.ipynb#W4sZmlsZQ%3D%3D?line=16'>17</a>\u001b[0m     \u001b[39mprint\u001b[39;49m(\u001b[39mf\u001b[39;49m\u001b[39m\"\u001b[39;49m\u001b[39mHere is your \u001b[39;49m\u001b[39m{\u001b[39;49;00mflavor\u001b[39m}\u001b[39;49;00m\u001b[39m ice cream 🍨\u001b[39;49m\u001b[39m\"\u001b[39;49m)\n\u001b[1;32m     <a href='vscode-notebook-cell:/Users/indrani.sarkar/Python_Functional/Basics/Krish%209%20decorators.ipynb#W4sZmlsZQ%3D%3D?line=18'>19</a>\u001b[0m get_ice_cream(\u001b[39m\"\u001b[39m\u001b[39mvanilla\u001b[39m\u001b[39m\"\u001b[39m)\n",
      "\u001b[1;32m/Users/indrani.sarkar/Python_Functional/Basics/Krish 9 decorators.ipynb Cell 4\u001b[0m line \u001b[0;36m1\n\u001b[1;32m      <a href='vscode-notebook-cell:/Users/indrani.sarkar/Python_Functional/Basics/Krish%209%20decorators.ipynb#W4sZmlsZQ%3D%3D?line=6'>7</a>\u001b[0m \u001b[39mdef\u001b[39;00m \u001b[39madd_fudge\u001b[39m(func):\n\u001b[1;32m      <a href='vscode-notebook-cell:/Users/indrani.sarkar/Python_Functional/Basics/Krish%209%20decorators.ipynb#W4sZmlsZQ%3D%3D?line=7'>8</a>\u001b[0m     \u001b[39m# def wrapper(*args, **kwargs):\u001b[39;00m\n\u001b[1;32m      <a href='vscode-notebook-cell:/Users/indrani.sarkar/Python_Functional/Basics/Krish%209%20decorators.ipynb#W4sZmlsZQ%3D%3D?line=8'>9</a>\u001b[0m         \u001b[39mprint\u001b[39m(\u001b[39m\"\u001b[39m\u001b[39m*You add fudge 🍫*\u001b[39m\u001b[39m\"\u001b[39m)\n\u001b[0;32m---> <a href='vscode-notebook-cell:/Users/indrani.sarkar/Python_Functional/Basics/Krish%209%20decorators.ipynb#W4sZmlsZQ%3D%3D?line=9'>10</a>\u001b[0m         func(\u001b[39m*\u001b[39margs, \u001b[39m*\u001b[39m\u001b[39m*\u001b[39mkwargs)\n",
      "\u001b[0;31mNameError\u001b[0m: name 'args' is not defined"
     ]
    }
   ],
   "source": [
    "def add_sprinkles(func):\n",
    "    # def wrapper(*args, **kwargs):\n",
    "        print(\"*You add sprinkles 🎊*\")\n",
    "        func()\n",
    "    # return wrapper\n",
    "\n",
    "def add_fudge(func):\n",
    "    # def wrapper(*args, **kwargs):\n",
    "        print(\"*You add fudge 🍫*\")\n",
    "        func(*args, **kwargs)\n",
    "    # return wrapper\n",
    "\n",
    "\n",
    "@add_sprinkles\n",
    "@add_fudge\n",
    "def get_ice_cream(flavor):\n",
    "    print(f\"Here is your {flavor} ice cream 🍨\")\n",
    "\n",
    "get_ice_cream(\"vanilla\")"
   ]
  }
 ],
 "metadata": {
  "kernelspec": {
   "display_name": "Python 3",
   "language": "python",
   "name": "python3"
  },
  "language_info": {
   "codemirror_mode": {
    "name": "ipython",
    "version": 3
   },
   "file_extension": ".py",
   "mimetype": "text/x-python",
   "name": "python",
   "nbconvert_exporter": "python",
   "pygments_lexer": "ipython3",
   "version": "3.9.6"
  }
 },
 "nbformat": 4,
 "nbformat_minor": 2
}
